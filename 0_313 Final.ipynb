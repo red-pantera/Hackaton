{
 "cells": [
  {
   "cell_type": "markdown",
   "id": "36d33028",
   "metadata": {},
   "source": [
    "### Load Libraries"
   ]
  },
  {
   "cell_type": "code",
   "execution_count": 233,
   "id": "a98f745b",
   "metadata": {},
   "outputs": [],
   "source": [
    "import pandas as pd\n",
    "import numpy as np\n",
    "import matplotlib.pyplot as plt\n",
    "import seaborn as sns\n",
    "\n",
    "from sklearn.model_selection import train_test_split\n",
    "from sklearn.preprocessing import LabelEncoder\n",
    "from keras.optimizers import adam_v2\n",
    "from keras.models import load_model, Model, Sequential\n",
    "from keras.layers import Dense,Embedding,LSTM,Dropout,Bidirectional,Input,BatchNormalization,GRU, Average\n",
    "from tensorflow.keras.optimizers import Adam\n",
    "from keras.callbacks import EarlyStopping, ModelCheckpoint, ReduceLROnPlateau\n",
    "\n",
    "\n",
    "import warnings\n",
    "warnings.filterwarnings('ignore')"
   ]
  },
  {
   "cell_type": "markdown",
   "id": "d0b94d1a",
   "metadata": {},
   "source": [
    "### Loading datasets"
   ]
  },
  {
   "cell_type": "code",
   "execution_count": 222,
   "id": "dce58f28",
   "metadata": {},
   "outputs": [],
   "source": [
    "# Load data\n",
    "train = pd.read_csv(\"data/train.csv\")\n",
    "test = pd.read_csv(\"data/test.csv\")\n",
    "challenges = pd.read_csv('data/challenge_data.csv')"
   ]
  },
  {
   "cell_type": "markdown",
   "id": "3bf1a632",
   "metadata": {},
   "source": [
    "##### Train Data"
   ]
  },
  {
   "cell_type": "code",
   "execution_count": 223,
   "id": "90fb0981",
   "metadata": {},
   "outputs": [
    {
     "data": {
      "text/html": [
       "<div>\n",
       "<style scoped>\n",
       "    .dataframe tbody tr th:only-of-type {\n",
       "        vertical-align: middle;\n",
       "    }\n",
       "\n",
       "    .dataframe tbody tr th {\n",
       "        vertical-align: top;\n",
       "    }\n",
       "\n",
       "    .dataframe thead th {\n",
       "        text-align: right;\n",
       "    }\n",
       "</style>\n",
       "<table border=\"1\" class=\"dataframe\">\n",
       "  <thead>\n",
       "    <tr style=\"text-align: right;\">\n",
       "      <th></th>\n",
       "      <th>user_sequence</th>\n",
       "      <th>user_id</th>\n",
       "      <th>challenge_sequence</th>\n",
       "      <th>challenge</th>\n",
       "    </tr>\n",
       "  </thead>\n",
       "  <tbody>\n",
       "    <tr>\n",
       "      <th>0</th>\n",
       "      <td>4576_1</td>\n",
       "      <td>4576</td>\n",
       "      <td>1</td>\n",
       "      <td>CI23714</td>\n",
       "    </tr>\n",
       "    <tr>\n",
       "      <th>1</th>\n",
       "      <td>4576_2</td>\n",
       "      <td>4576</td>\n",
       "      <td>2</td>\n",
       "      <td>CI23855</td>\n",
       "    </tr>\n",
       "    <tr>\n",
       "      <th>2</th>\n",
       "      <td>4576_3</td>\n",
       "      <td>4576</td>\n",
       "      <td>3</td>\n",
       "      <td>CI24917</td>\n",
       "    </tr>\n",
       "    <tr>\n",
       "      <th>3</th>\n",
       "      <td>4576_4</td>\n",
       "      <td>4576</td>\n",
       "      <td>4</td>\n",
       "      <td>CI23663</td>\n",
       "    </tr>\n",
       "    <tr>\n",
       "      <th>4</th>\n",
       "      <td>4576_5</td>\n",
       "      <td>4576</td>\n",
       "      <td>5</td>\n",
       "      <td>CI23933</td>\n",
       "    </tr>\n",
       "  </tbody>\n",
       "</table>\n",
       "</div>"
      ],
      "text/plain": [
       "  user_sequence  user_id  challenge_sequence challenge\n",
       "0        4576_1     4576                   1   CI23714\n",
       "1        4576_2     4576                   2   CI23855\n",
       "2        4576_3     4576                   3   CI24917\n",
       "3        4576_4     4576                   4   CI23663\n",
       "4        4576_5     4576                   5   CI23933"
      ]
     },
     "execution_count": 223,
     "metadata": {},
     "output_type": "execute_result"
    }
   ],
   "source": [
    "train.head()"
   ]
  },
  {
   "cell_type": "code",
   "execution_count": 224,
   "id": "b160de8e",
   "metadata": {},
   "outputs": [
    {
     "name": "stdout",
     "output_type": "stream",
     "text": [
      "<class 'pandas.core.frame.DataFrame'>\n",
      "RangeIndex: 903916 entries, 0 to 903915\n",
      "Data columns (total 4 columns):\n",
      " #   Column              Non-Null Count   Dtype \n",
      "---  ------              --------------   ----- \n",
      " 0   user_sequence       903916 non-null  object\n",
      " 1   user_id             903916 non-null  int64 \n",
      " 2   challenge_sequence  903916 non-null  int64 \n",
      " 3   challenge           903916 non-null  object\n",
      "dtypes: int64(2), object(2)\n",
      "memory usage: 27.6+ MB\n"
     ]
    }
   ],
   "source": [
    "train.info()"
   ]
  },
  {
   "cell_type": "code",
   "execution_count": 225,
   "id": "6481f9eb",
   "metadata": {},
   "outputs": [
    {
     "name": "stdout",
     "output_type": "stream",
     "text": [
      "Shape of train dataset:  (903916, 4)\n"
     ]
    }
   ],
   "source": [
    "print('Shape of train dataset: ', train.shape)"
   ]
  },
  {
   "cell_type": "markdown",
   "id": "789f208d",
   "metadata": {},
   "source": [
    "##### Test Data"
   ]
  },
  {
   "cell_type": "code",
   "execution_count": 6,
   "id": "e695ab43",
   "metadata": {},
   "outputs": [
    {
     "data": {
      "text/html": [
       "<div>\n",
       "<style scoped>\n",
       "    .dataframe tbody tr th:only-of-type {\n",
       "        vertical-align: middle;\n",
       "    }\n",
       "\n",
       "    .dataframe tbody tr th {\n",
       "        vertical-align: top;\n",
       "    }\n",
       "\n",
       "    .dataframe thead th {\n",
       "        text-align: right;\n",
       "    }\n",
       "</style>\n",
       "<table border=\"1\" class=\"dataframe\">\n",
       "  <thead>\n",
       "    <tr style=\"text-align: right;\">\n",
       "      <th></th>\n",
       "      <th>user_sequence</th>\n",
       "      <th>user_id</th>\n",
       "      <th>challenge_sequence</th>\n",
       "      <th>challenge</th>\n",
       "    </tr>\n",
       "  </thead>\n",
       "  <tbody>\n",
       "    <tr>\n",
       "      <th>0</th>\n",
       "      <td>4577_1</td>\n",
       "      <td>4577</td>\n",
       "      <td>1</td>\n",
       "      <td>CI23855</td>\n",
       "    </tr>\n",
       "    <tr>\n",
       "      <th>1</th>\n",
       "      <td>4577_2</td>\n",
       "      <td>4577</td>\n",
       "      <td>2</td>\n",
       "      <td>CI23933</td>\n",
       "    </tr>\n",
       "    <tr>\n",
       "      <th>2</th>\n",
       "      <td>4577_3</td>\n",
       "      <td>4577</td>\n",
       "      <td>3</td>\n",
       "      <td>CI24917</td>\n",
       "    </tr>\n",
       "    <tr>\n",
       "      <th>3</th>\n",
       "      <td>4577_4</td>\n",
       "      <td>4577</td>\n",
       "      <td>4</td>\n",
       "      <td>CI24915</td>\n",
       "    </tr>\n",
       "    <tr>\n",
       "      <th>4</th>\n",
       "      <td>4577_5</td>\n",
       "      <td>4577</td>\n",
       "      <td>5</td>\n",
       "      <td>CI23714</td>\n",
       "    </tr>\n",
       "  </tbody>\n",
       "</table>\n",
       "</div>"
      ],
      "text/plain": [
       "  user_sequence  user_id  challenge_sequence challenge\n",
       "0        4577_1     4577                   1   CI23855\n",
       "1        4577_2     4577                   2   CI23933\n",
       "2        4577_3     4577                   3   CI24917\n",
       "3        4577_4     4577                   4   CI24915\n",
       "4        4577_5     4577                   5   CI23714"
      ]
     },
     "execution_count": 6,
     "metadata": {},
     "output_type": "execute_result"
    }
   ],
   "source": [
    "test.head()"
   ]
  },
  {
   "cell_type": "code",
   "execution_count": 7,
   "id": "9981d84b",
   "metadata": {},
   "outputs": [
    {
     "name": "stdout",
     "output_type": "stream",
     "text": [
      "<class 'pandas.core.frame.DataFrame'>\n",
      "RangeIndex: 397320 entries, 0 to 397319\n",
      "Data columns (total 4 columns):\n",
      " #   Column              Non-Null Count   Dtype \n",
      "---  ------              --------------   ----- \n",
      " 0   user_sequence       397320 non-null  object\n",
      " 1   user_id             397320 non-null  int64 \n",
      " 2   challenge_sequence  397320 non-null  int64 \n",
      " 3   challenge           397320 non-null  object\n",
      "dtypes: int64(2), object(2)\n",
      "memory usage: 12.1+ MB\n"
     ]
    }
   ],
   "source": [
    "test.info()"
   ]
  },
  {
   "cell_type": "code",
   "execution_count": 8,
   "id": "307e9612",
   "metadata": {},
   "outputs": [
    {
     "name": "stdout",
     "output_type": "stream",
     "text": [
      "Shape of test dataset:  (397320, 4)\n"
     ]
    }
   ],
   "source": [
    "print('Shape of test dataset: ', test.shape)"
   ]
  },
  {
   "cell_type": "markdown",
   "id": "367d856a",
   "metadata": {},
   "source": [
    "##### Challenges"
   ]
  },
  {
   "cell_type": "code",
   "execution_count": 9,
   "id": "26b13608",
   "metadata": {},
   "outputs": [
    {
     "data": {
      "text/html": [
       "<div>\n",
       "<style scoped>\n",
       "    .dataframe tbody tr th:only-of-type {\n",
       "        vertical-align: middle;\n",
       "    }\n",
       "\n",
       "    .dataframe tbody tr th {\n",
       "        vertical-align: top;\n",
       "    }\n",
       "\n",
       "    .dataframe thead th {\n",
       "        text-align: right;\n",
       "    }\n",
       "</style>\n",
       "<table border=\"1\" class=\"dataframe\">\n",
       "  <thead>\n",
       "    <tr style=\"text-align: right;\">\n",
       "      <th></th>\n",
       "      <th>challenge_ID</th>\n",
       "      <th>programming_language</th>\n",
       "      <th>challenge_series_ID</th>\n",
       "      <th>total_submissions</th>\n",
       "      <th>publish_date</th>\n",
       "      <th>author_ID</th>\n",
       "      <th>author_gender</th>\n",
       "      <th>author_org_ID</th>\n",
       "      <th>category_id</th>\n",
       "    </tr>\n",
       "  </thead>\n",
       "  <tbody>\n",
       "    <tr>\n",
       "      <th>0</th>\n",
       "      <td>CI23478</td>\n",
       "      <td>2</td>\n",
       "      <td>SI2445</td>\n",
       "      <td>37.0</td>\n",
       "      <td>06-05-2006</td>\n",
       "      <td>AI563576</td>\n",
       "      <td>M</td>\n",
       "      <td>AOI100001</td>\n",
       "      <td>NaN</td>\n",
       "    </tr>\n",
       "    <tr>\n",
       "      <th>1</th>\n",
       "      <td>CI23479</td>\n",
       "      <td>2</td>\n",
       "      <td>SI2435</td>\n",
       "      <td>48.0</td>\n",
       "      <td>17-10-2002</td>\n",
       "      <td>AI563577</td>\n",
       "      <td>M</td>\n",
       "      <td>AOI100002</td>\n",
       "      <td>32.0</td>\n",
       "    </tr>\n",
       "    <tr>\n",
       "      <th>2</th>\n",
       "      <td>CI23480</td>\n",
       "      <td>1</td>\n",
       "      <td>SI2435</td>\n",
       "      <td>15.0</td>\n",
       "      <td>16-10-2002</td>\n",
       "      <td>AI563578</td>\n",
       "      <td>M</td>\n",
       "      <td>AOI100003</td>\n",
       "      <td>NaN</td>\n",
       "    </tr>\n",
       "    <tr>\n",
       "      <th>3</th>\n",
       "      <td>CI23481</td>\n",
       "      <td>1</td>\n",
       "      <td>SI2710</td>\n",
       "      <td>236.0</td>\n",
       "      <td>19-09-2003</td>\n",
       "      <td>AI563579</td>\n",
       "      <td>M</td>\n",
       "      <td>AOI100004</td>\n",
       "      <td>70.0</td>\n",
       "    </tr>\n",
       "    <tr>\n",
       "      <th>4</th>\n",
       "      <td>CI23482</td>\n",
       "      <td>2</td>\n",
       "      <td>SI2440</td>\n",
       "      <td>137.0</td>\n",
       "      <td>21-03-2002</td>\n",
       "      <td>AI563580</td>\n",
       "      <td>M</td>\n",
       "      <td>AOI100005</td>\n",
       "      <td>NaN</td>\n",
       "    </tr>\n",
       "  </tbody>\n",
       "</table>\n",
       "</div>"
      ],
      "text/plain": [
       "  challenge_ID  programming_language challenge_series_ID  total_submissions  \\\n",
       "0      CI23478                     2              SI2445               37.0   \n",
       "1      CI23479                     2              SI2435               48.0   \n",
       "2      CI23480                     1              SI2435               15.0   \n",
       "3      CI23481                     1              SI2710              236.0   \n",
       "4      CI23482                     2              SI2440              137.0   \n",
       "\n",
       "  publish_date author_ID author_gender author_org_ID  category_id  \n",
       "0   06-05-2006  AI563576             M     AOI100001          NaN  \n",
       "1   17-10-2002  AI563577             M     AOI100002         32.0  \n",
       "2   16-10-2002  AI563578             M     AOI100003          NaN  \n",
       "3   19-09-2003  AI563579             M     AOI100004         70.0  \n",
       "4   21-03-2002  AI563580             M     AOI100005          NaN  "
      ]
     },
     "execution_count": 9,
     "metadata": {},
     "output_type": "execute_result"
    }
   ],
   "source": [
    "challenges.head()"
   ]
  },
  {
   "cell_type": "code",
   "execution_count": 10,
   "id": "aa3da57b",
   "metadata": {},
   "outputs": [
    {
     "name": "stdout",
     "output_type": "stream",
     "text": [
      "<class 'pandas.core.frame.DataFrame'>\n",
      "RangeIndex: 5606 entries, 0 to 5605\n",
      "Data columns (total 9 columns):\n",
      " #   Column                Non-Null Count  Dtype  \n",
      "---  ------                --------------  -----  \n",
      " 0   challenge_ID          5606 non-null   object \n",
      " 1   programming_language  5606 non-null   int64  \n",
      " 2   challenge_series_ID   5594 non-null   object \n",
      " 3   total_submissions     5254 non-null   float64\n",
      " 4   publish_date          5606 non-null   object \n",
      " 5   author_ID             5567 non-null   object \n",
      " 6   author_gender         5509 non-null   object \n",
      " 7   author_org_ID         5358 non-null   object \n",
      " 8   category_id           3765 non-null   float64\n",
      "dtypes: float64(2), int64(1), object(6)\n",
      "memory usage: 394.3+ KB\n"
     ]
    }
   ],
   "source": [
    "challenges.info()"
   ]
  },
  {
   "cell_type": "code",
   "execution_count": 11,
   "id": "cd9c0f5c",
   "metadata": {},
   "outputs": [
    {
     "name": "stdout",
     "output_type": "stream",
     "text": [
      "Shape of challenges dataset:  (5606, 9)\n"
     ]
    }
   ],
   "source": [
    "print('Shape of challenges dataset: ', challenges.shape)"
   ]
  },
  {
   "cell_type": "code",
   "execution_count": 90,
   "id": "c688ee37",
   "metadata": {},
   "outputs": [
    {
     "data": {
      "text/plain": [
       "challenge_ID            5606\n",
       "programming_language       3\n",
       "challenge_series_ID      435\n",
       "total_submissions       1067\n",
       "publish_date            1145\n",
       "author_ID               3484\n",
       "author_gender              2\n",
       "author_org_ID           1717\n",
       "category_id              194\n",
       "dtype: int64"
      ]
     },
     "execution_count": 90,
     "metadata": {},
     "output_type": "execute_result"
    }
   ],
   "source": [
    "# unique values in columns (NaN is not included)\n",
    "challenges.nunique()"
   ]
  },
  {
   "cell_type": "code",
   "execution_count": 238,
   "id": "4b5afea9",
   "metadata": {},
   "outputs": [],
   "source": [
    "# Extract year, month, week day from publish_date\n",
    "challenges['publish_date'] = pd.to_datetime(challenges['publish_date']).dt.strftime(\"%d.%m.%Y\")\n",
    "challenges['year'] = pd.to_datetime(challenges['publish_date']).dt.year\n",
    "challenges['month'] = pd.to_datetime(challenges['publish_date']).dt.month\n",
    "challenges['week_day'] = pd.to_datetime(challenges['publish_date']).dt.day_name(locale = 'English')"
   ]
  },
  {
   "cell_type": "code",
   "execution_count": 239,
   "id": "e309eb0a",
   "metadata": {},
   "outputs": [
    {
     "data": {
      "text/html": [
       "<div>\n",
       "<style scoped>\n",
       "    .dataframe tbody tr th:only-of-type {\n",
       "        vertical-align: middle;\n",
       "    }\n",
       "\n",
       "    .dataframe tbody tr th {\n",
       "        vertical-align: top;\n",
       "    }\n",
       "\n",
       "    .dataframe thead th {\n",
       "        text-align: right;\n",
       "    }\n",
       "</style>\n",
       "<table border=\"1\" class=\"dataframe\">\n",
       "  <thead>\n",
       "    <tr style=\"text-align: right;\">\n",
       "      <th></th>\n",
       "      <th>challenge_ID</th>\n",
       "      <th>programming_language</th>\n",
       "      <th>challenge_series_ID</th>\n",
       "      <th>total_submissions</th>\n",
       "      <th>publish_date</th>\n",
       "      <th>author_ID</th>\n",
       "      <th>author_gender</th>\n",
       "      <th>author_org_ID</th>\n",
       "      <th>category_id</th>\n",
       "      <th>year</th>\n",
       "      <th>month</th>\n",
       "      <th>week_day</th>\n",
       "    </tr>\n",
       "  </thead>\n",
       "  <tbody>\n",
       "    <tr>\n",
       "      <th>0</th>\n",
       "      <td>CI23478</td>\n",
       "      <td>2</td>\n",
       "      <td>SI2445</td>\n",
       "      <td>37.0</td>\n",
       "      <td>05.06.2006</td>\n",
       "      <td>AI563576</td>\n",
       "      <td>M</td>\n",
       "      <td>AOI100001</td>\n",
       "      <td>NaN</td>\n",
       "      <td>2006</td>\n",
       "      <td>5</td>\n",
       "      <td>Saturday</td>\n",
       "    </tr>\n",
       "    <tr>\n",
       "      <th>1</th>\n",
       "      <td>CI23479</td>\n",
       "      <td>2</td>\n",
       "      <td>SI2435</td>\n",
       "      <td>48.0</td>\n",
       "      <td>17.10.2002</td>\n",
       "      <td>AI563577</td>\n",
       "      <td>M</td>\n",
       "      <td>AOI100002</td>\n",
       "      <td>32.0</td>\n",
       "      <td>2002</td>\n",
       "      <td>10</td>\n",
       "      <td>Thursday</td>\n",
       "    </tr>\n",
       "    <tr>\n",
       "      <th>2</th>\n",
       "      <td>CI23480</td>\n",
       "      <td>1</td>\n",
       "      <td>SI2435</td>\n",
       "      <td>15.0</td>\n",
       "      <td>16.10.2002</td>\n",
       "      <td>AI563578</td>\n",
       "      <td>M</td>\n",
       "      <td>AOI100003</td>\n",
       "      <td>NaN</td>\n",
       "      <td>2002</td>\n",
       "      <td>10</td>\n",
       "      <td>Wednesday</td>\n",
       "    </tr>\n",
       "    <tr>\n",
       "      <th>3</th>\n",
       "      <td>CI23481</td>\n",
       "      <td>1</td>\n",
       "      <td>SI2710</td>\n",
       "      <td>236.0</td>\n",
       "      <td>19.09.2003</td>\n",
       "      <td>AI563579</td>\n",
       "      <td>M</td>\n",
       "      <td>AOI100004</td>\n",
       "      <td>70.0</td>\n",
       "      <td>2003</td>\n",
       "      <td>9</td>\n",
       "      <td>Friday</td>\n",
       "    </tr>\n",
       "    <tr>\n",
       "      <th>4</th>\n",
       "      <td>CI23482</td>\n",
       "      <td>2</td>\n",
       "      <td>SI2440</td>\n",
       "      <td>137.0</td>\n",
       "      <td>21.03.2002</td>\n",
       "      <td>AI563580</td>\n",
       "      <td>M</td>\n",
       "      <td>AOI100005</td>\n",
       "      <td>NaN</td>\n",
       "      <td>2002</td>\n",
       "      <td>3</td>\n",
       "      <td>Thursday</td>\n",
       "    </tr>\n",
       "    <tr>\n",
       "      <th>...</th>\n",
       "      <td>...</td>\n",
       "      <td>...</td>\n",
       "      <td>...</td>\n",
       "      <td>...</td>\n",
       "      <td>...</td>\n",
       "      <td>...</td>\n",
       "      <td>...</td>\n",
       "      <td>...</td>\n",
       "      <td>...</td>\n",
       "      <td>...</td>\n",
       "      <td>...</td>\n",
       "      <td>...</td>\n",
       "    </tr>\n",
       "    <tr>\n",
       "      <th>5601</th>\n",
       "      <td>CI29079</td>\n",
       "      <td>1</td>\n",
       "      <td>SI2864</td>\n",
       "      <td>NaN</td>\n",
       "      <td>17.06.2010</td>\n",
       "      <td>AI567059</td>\n",
       "      <td>M</td>\n",
       "      <td>AOI101717</td>\n",
       "      <td>29.0</td>\n",
       "      <td>2010</td>\n",
       "      <td>6</td>\n",
       "      <td>Thursday</td>\n",
       "    </tr>\n",
       "    <tr>\n",
       "      <th>5602</th>\n",
       "      <td>CI29080</td>\n",
       "      <td>1</td>\n",
       "      <td>SI2865</td>\n",
       "      <td>NaN</td>\n",
       "      <td>25.06.2010</td>\n",
       "      <td>AI567060</td>\n",
       "      <td>F</td>\n",
       "      <td>AOI101718</td>\n",
       "      <td>29.0</td>\n",
       "      <td>2010</td>\n",
       "      <td>6</td>\n",
       "      <td>Friday</td>\n",
       "    </tr>\n",
       "    <tr>\n",
       "      <th>5603</th>\n",
       "      <td>CI29081</td>\n",
       "      <td>1</td>\n",
       "      <td>SI2865</td>\n",
       "      <td>NaN</td>\n",
       "      <td>25.06.2010</td>\n",
       "      <td>AI566257</td>\n",
       "      <td>M</td>\n",
       "      <td>AOI100108</td>\n",
       "      <td>29.0</td>\n",
       "      <td>2010</td>\n",
       "      <td>6</td>\n",
       "      <td>Friday</td>\n",
       "    </tr>\n",
       "    <tr>\n",
       "      <th>5604</th>\n",
       "      <td>CI29082</td>\n",
       "      <td>1</td>\n",
       "      <td>SI2865</td>\n",
       "      <td>NaN</td>\n",
       "      <td>25.06.2010</td>\n",
       "      <td>AI563777</td>\n",
       "      <td>M</td>\n",
       "      <td>AOI100108</td>\n",
       "      <td>29.0</td>\n",
       "      <td>2010</td>\n",
       "      <td>6</td>\n",
       "      <td>Friday</td>\n",
       "    </tr>\n",
       "    <tr>\n",
       "      <th>5605</th>\n",
       "      <td>CI29083</td>\n",
       "      <td>1</td>\n",
       "      <td>SI2865</td>\n",
       "      <td>NaN</td>\n",
       "      <td>25.06.2010</td>\n",
       "      <td>AI564006</td>\n",
       "      <td>F</td>\n",
       "      <td>AOI100022</td>\n",
       "      <td>29.0</td>\n",
       "      <td>2010</td>\n",
       "      <td>6</td>\n",
       "      <td>Friday</td>\n",
       "    </tr>\n",
       "  </tbody>\n",
       "</table>\n",
       "<p>5606 rows × 12 columns</p>\n",
       "</div>"
      ],
      "text/plain": [
       "     challenge_ID  programming_language challenge_series_ID  \\\n",
       "0         CI23478                     2              SI2445   \n",
       "1         CI23479                     2              SI2435   \n",
       "2         CI23480                     1              SI2435   \n",
       "3         CI23481                     1              SI2710   \n",
       "4         CI23482                     2              SI2440   \n",
       "...           ...                   ...                 ...   \n",
       "5601      CI29079                     1              SI2864   \n",
       "5602      CI29080                     1              SI2865   \n",
       "5603      CI29081                     1              SI2865   \n",
       "5604      CI29082                     1              SI2865   \n",
       "5605      CI29083                     1              SI2865   \n",
       "\n",
       "      total_submissions publish_date author_ID author_gender author_org_ID  \\\n",
       "0                  37.0   05.06.2006  AI563576             M     AOI100001   \n",
       "1                  48.0   17.10.2002  AI563577             M     AOI100002   \n",
       "2                  15.0   16.10.2002  AI563578             M     AOI100003   \n",
       "3                 236.0   19.09.2003  AI563579             M     AOI100004   \n",
       "4                 137.0   21.03.2002  AI563580             M     AOI100005   \n",
       "...                 ...          ...       ...           ...           ...   \n",
       "5601                NaN   17.06.2010  AI567059             M     AOI101717   \n",
       "5602                NaN   25.06.2010  AI567060             F     AOI101718   \n",
       "5603                NaN   25.06.2010  AI566257             M     AOI100108   \n",
       "5604                NaN   25.06.2010  AI563777             M     AOI100108   \n",
       "5605                NaN   25.06.2010  AI564006             F     AOI100022   \n",
       "\n",
       "      category_id  year  month   week_day  \n",
       "0             NaN  2006      5   Saturday  \n",
       "1            32.0  2002     10   Thursday  \n",
       "2             NaN  2002     10  Wednesday  \n",
       "3            70.0  2003      9     Friday  \n",
       "4             NaN  2002      3   Thursday  \n",
       "...           ...   ...    ...        ...  \n",
       "5601         29.0  2010      6   Thursday  \n",
       "5602         29.0  2010      6     Friday  \n",
       "5603         29.0  2010      6     Friday  \n",
       "5604         29.0  2010      6     Friday  \n",
       "5605         29.0  2010      6     Friday  \n",
       "\n",
       "[5606 rows x 12 columns]"
      ]
     },
     "execution_count": 239,
     "metadata": {},
     "output_type": "execute_result"
    }
   ],
   "source": [
    "challenges"
   ]
  },
  {
   "cell_type": "code",
   "execution_count": 147,
   "id": "7085a9d1",
   "metadata": {},
   "outputs": [],
   "source": [
    "from pandas.api.types import CategoricalDtype\n",
    "cats = [ 'Monday', 'Tuesday', 'Wednesday', 'Thursday', 'Friday', 'Saturday', 'Sunday']\n",
    "cat_type = CategoricalDtype(categories=cats, ordered=True)\n",
    "challenges['week_day'] = challenges['week_day'].astype(cat_type)"
   ]
  },
  {
   "cell_type": "code",
   "execution_count": 68,
   "id": "becc891e",
   "metadata": {},
   "outputs": [
    {
     "data": {
      "image/png": "[encoded data removed]",
      "text/plain": [
       "<Figure size 432x288 with 1 Axes>"
      ]
     },
     "metadata": {
      "needs_background": "light"
     },
     "output_type": "display_data"
    }
   ],
   "source": [
    "# Check the null values (in percentages %)\n",
    "null_val = challenges.isnull().sum()/challenges.shape[0]\n",
    "null_val.sort_values(inplace=True, ascending=False, )\n",
    "palette=sns.color_palette(\"rainbow\")\n",
    "sns.barplot(x=null_val, y=null_val.index, palette=palette);"
   ]
  },
  {
   "cell_type": "code",
   "execution_count": 91,
   "id": "dec92872",
   "metadata": {},
   "outputs": [
    {
     "data": {
      "image/png": "[encoded data removed]",
      "text/plain": [
       "<Figure size 432x288 with 1 Axes>"
      ]
     },
     "metadata": {
      "needs_background": "light"
     },
     "output_type": "display_data"
    }
   ],
   "source": [
    "# programming languages\n",
    "sns.countplot(x='programming_language', \n",
    "              data=challenges, \n",
    "              palette=palette);"
   ]
  },
  {
   "cell_type": "code",
   "execution_count": 81,
   "id": "1d09a509",
   "metadata": {},
   "outputs": [
    {
     "data": {
      "image/png": "[encoded data removed]",
      "text/plain": [
       "<Figure size 432x288 with 1 Axes>"
      ]
     },
     "metadata": {
      "needs_background": "light"
     },
     "output_type": "display_data"
    }
   ],
   "source": [
    "# top 10 challenge series\n",
    "sns.countplot(y='challenge_series_ID', \n",
    "              data=challenges, \n",
    "              order = challenges['challenge_series_ID'].value_counts().index[:10],\n",
    "              palette=palette);"
   ]
  },
  {
   "cell_type": "code",
   "execution_count": 82,
   "id": "558cbcb6",
   "metadata": {},
   "outputs": [
    {
     "data": {
      "image/png": "[encoded data removed]",
      "text/plain": [
       "<Figure size 432x288 with 1 Axes>"
      ]
     },
     "metadata": {
      "needs_background": "light"
     },
     "output_type": "display_data"
    }
   ],
   "source": [
    "# top 10 authors\n",
    "sns.countplot(y='author_ID', \n",
    "              data=challenges, \n",
    "              order = challenges['author_ID'].value_counts().index[:10],\n",
    "              palette=palette);"
   ]
  },
  {
   "cell_type": "code",
   "execution_count": 85,
   "id": "bfa737fa",
   "metadata": {},
   "outputs": [
    {
     "data": {
      "image/png": "[encoded data removed]",
      "text/plain": [
       "<Figure size 432x288 with 1 Axes>"
      ]
     },
     "metadata": {
      "needs_background": "light"
     },
     "output_type": "display_data"
    }
   ],
   "source": [
    "# authors gender\n",
    "sns.countplot(x='author_gender', \n",
    "              data=challenges, \n",
    "              palette=palette);"
   ]
  },
  {
   "cell_type": "code",
   "execution_count": 95,
   "id": "659249cd",
   "metadata": {},
   "outputs": [
    {
     "data": {
      "image/png": "[encoded data removed]",
      "text/plain": [
       "<Figure size 432x288 with 1 Axes>"
      ]
     },
     "metadata": {
      "needs_background": "light"
     },
     "output_type": "display_data"
    }
   ],
   "source": [
    "# top 10 Organization ID for authors\n",
    "sns.countplot(y='author_org_ID', \n",
    "              data=challenges, \n",
    "              order = challenges['author_org_ID'].value_counts().index[:10],\n",
    "              palette=palette);"
   ]
  },
  {
   "cell_type": "code",
   "execution_count": 98,
   "id": "e5ff46d5",
   "metadata": {},
   "outputs": [
    {
     "data": {
      "image/png": "[encoded data removed]",
      "text/plain": [
       "<Figure size 432x288 with 1 Axes>"
      ]
     },
     "metadata": {
      "needs_background": "light"
     },
     "output_type": "display_data"
    }
   ],
   "source": [
    "# top 10 categories of challenges\n",
    "sns.countplot(y='category_id', \n",
    "              data=challenges, \n",
    "              order = challenges['category_id'].value_counts().index[:10],\n",
    "              palette=palette);"
   ]
  },
  {
   "cell_type": "code",
   "execution_count": 129,
   "id": "97b3b081",
   "metadata": {},
   "outputs": [
    {
     "data": {
      "image/png": "[encoded data removed]",
      "text/plain": [
       "<Figure size 432x288 with 1 Axes>"
      ]
     },
     "metadata": {
      "needs_background": "light"
     },
     "output_type": "display_data"
    }
   ],
   "source": [
    "# Challenges by Year\n",
    "sns.countplot(x='year', \n",
    "              data=challenges,\n",
    "              palette=palette);"
   ]
  },
  {
   "cell_type": "code",
   "execution_count": 130,
   "id": "cedf0862",
   "metadata": {},
   "outputs": [
    {
     "data": {
      "image/png": "[encoded data removed]",
      "text/plain": [
       "<Figure size 432x288 with 1 Axes>"
      ]
     },
     "metadata": {
      "needs_background": "light"
     },
     "output_type": "display_data"
    }
   ],
   "source": [
    "# Challenges by Month\n",
    "sns.countplot(x='month', \n",
    "              data=challenges,\n",
    "              palette=palette);"
   ]
  },
  {
   "cell_type": "code",
   "execution_count": 153,
   "id": "45dbb703",
   "metadata": {},
   "outputs": [
    {
     "data": {
      "image/png": "[encoded data removed]",
      "text/plain": [
       "<Figure size 432x288 with 1 Axes>"
      ]
     },
     "metadata": {
      "needs_background": "light"
     },
     "output_type": "display_data"
    }
   ],
   "source": [
    "# Challenges by Week Day\n",
    "sns.countplot(x='week_day', \n",
    "              data=challenges,\n",
    "              palette=palette);"
   ]
  },
  {
   "cell_type": "code",
   "execution_count": 165,
   "id": "f73c31e4",
   "metadata": {},
   "outputs": [
    {
     "data": {
      "text/plain": [
       "0.953977880841955"
      ]
     },
     "execution_count": 165,
     "metadata": {},
     "output_type": "execute_result"
    }
   ],
   "source": [
    "# fraction of train challenges to all challenges\n",
    "train['challenge'].nunique()/challenges['challenge_ID'].nunique()"
   ]
  },
  {
   "cell_type": "code",
   "execution_count": 167,
   "id": "2413c0a1",
   "metadata": {},
   "outputs": [
    {
     "data": {
      "text/plain": [
       "0.7986086336068497"
      ]
     },
     "execution_count": 167,
     "metadata": {},
     "output_type": "execute_result"
    }
   ],
   "source": [
    "# fraction of test challenges to all challenges\n",
    "test['challenge'].nunique()/challenges['challenge_ID'].nunique()"
   ]
  },
  {
   "cell_type": "code",
   "execution_count": 240,
   "id": "51251713",
   "metadata": {},
   "outputs": [
    {
     "data": {
      "image/png": "[encoded data removed]",
      "text/plain": [
       "<Figure size 432x288 with 1 Axes>"
      ]
     },
     "metadata": {
      "needs_background": "light"
     },
     "output_type": "display_data"
    }
   ],
   "source": [
    "# Most frequent challenges in train dataset\n",
    "sns.countplot(y='challenge', \n",
    "              data=train,\n",
    "              order = train['challenge'].value_counts().index[:5],\n",
    "              palette=palette);"
   ]
  },
  {
   "cell_type": "code",
   "execution_count": 241,
   "id": "e0a9b5ca",
   "metadata": {},
   "outputs": [
    {
     "data": {
      "image/png": "[encoded data removed]",
      "text/plain": [
       "<Figure size 432x288 with 1 Axes>"
      ]
     },
     "metadata": {
      "needs_background": "light"
     },
     "output_type": "display_data"
    }
   ],
   "source": [
    "#  Most frequent challenges in test dataset\n",
    "sns.countplot(y='challenge', \n",
    "              data=test,\n",
    "              order = test['challenge'].value_counts().index[:5],\n",
    "              palette=palette);"
   ]
  },
  {
   "cell_type": "code",
   "execution_count": 190,
   "id": "feeea9b3",
   "metadata": {},
   "outputs": [],
   "source": [
    "all_challenges = challenges['challenge_ID'].unique()\n",
    "train_challenge = train['challenge'].unique()\n",
    "test_challenges = test['challenge'].unique()"
   ]
  },
  {
   "cell_type": "code",
   "execution_count": 197,
   "id": "f6cd5e32",
   "metadata": {},
   "outputs": [],
   "source": [
    "train_intersect = np.intersect1d(all_challenges,train_challenge)\n",
    "train_setdiff = np.setdiff1d(all_challenges,train_challenge)"
   ]
  },
  {
   "cell_type": "code",
   "execution_count": 196,
   "id": "e9a3febe",
   "metadata": {},
   "outputs": [],
   "source": [
    "test_intersect = np.intersect1d(all_challenges,test_challenges)\n",
    "test_setdiff = np.setdiff1d(all_challenges,test_challenges)"
   ]
  },
  {
   "cell_type": "code",
   "execution_count": 217,
   "id": "893487e5",
   "metadata": {},
   "outputs": [
    {
     "data": {
      "text/plain": [
       "(1025,)"
      ]
     },
     "execution_count": 217,
     "metadata": {},
     "output_type": "execute_result"
    }
   ],
   "source": [
    "# challenges that are in train set but not in test\n",
    "train_test_setdiff = np.setdiff1d(train_challenge, test_challenges)\n",
    "train_test_setdiff.shape"
   ]
  },
  {
   "cell_type": "code",
   "execution_count": 204,
   "id": "0d2b140f",
   "metadata": {},
   "outputs": [
    {
     "data": {
      "text/plain": [
       "(154,)"
      ]
     },
     "execution_count": 204,
     "metadata": {},
     "output_type": "execute_result"
    }
   ],
   "source": [
    "# Challenges that are not in test and train set\n",
    "np.setdiff1d(train_setdiff, test_setdiff).shape"
   ]
  },
  {
   "cell_type": "code",
   "execution_count": 216,
   "id": "d6743acf",
   "metadata": {},
   "outputs": [
    {
     "data": {
      "text/html": [
       "<div>\n",
       "<style scoped>\n",
       "    .dataframe tbody tr th:only-of-type {\n",
       "        vertical-align: middle;\n",
       "    }\n",
       "\n",
       "    .dataframe tbody tr th {\n",
       "        vertical-align: top;\n",
       "    }\n",
       "\n",
       "    .dataframe thead th {\n",
       "        text-align: right;\n",
       "    }\n",
       "</style>\n",
       "<table border=\"1\" class=\"dataframe\">\n",
       "  <thead>\n",
       "    <tr style=\"text-align: right;\">\n",
       "      <th></th>\n",
       "      <th>user_sequence</th>\n",
       "      <th>user_id</th>\n",
       "      <th>challenge_sequence</th>\n",
       "      <th>challenge</th>\n",
       "    </tr>\n",
       "  </thead>\n",
       "  <tbody>\n",
       "  </tbody>\n",
       "</table>\n",
       "</div>"
      ],
      "text/plain": [
       "Empty DataFrame\n",
       "Columns: [user_sequence, user_id, challenge_sequence, challenge]\n",
       "Index: []"
      ]
     },
     "execution_count": 216,
     "metadata": {},
     "output_type": "execute_result"
    }
   ],
   "source": [
    "test[test['challenge']=='CI23488']"
   ]
  },
  {
   "cell_type": "markdown",
   "id": "bab330c1",
   "metadata": {},
   "source": [
    "### Encode Challenges"
   ]
  },
  {
   "cell_type": "code",
   "execution_count": 226,
   "id": "a648815e",
   "metadata": {},
   "outputs": [
    {
     "data": {
      "text/html": [
       "<div>\n",
       "<style scoped>\n",
       "    .dataframe tbody tr th:only-of-type {\n",
       "        vertical-align: middle;\n",
       "    }\n",
       "\n",
       "    .dataframe tbody tr th {\n",
       "        vertical-align: top;\n",
       "    }\n",
       "\n",
       "    .dataframe thead th {\n",
       "        text-align: right;\n",
       "    }\n",
       "</style>\n",
       "<table border=\"1\" class=\"dataframe\">\n",
       "  <thead>\n",
       "    <tr style=\"text-align: right;\">\n",
       "      <th></th>\n",
       "      <th>user_sequence</th>\n",
       "      <th>user_id</th>\n",
       "      <th>challenge_sequence</th>\n",
       "      <th>challenge</th>\n",
       "      <th>challenge_encoded</th>\n",
       "    </tr>\n",
       "  </thead>\n",
       "  <tbody>\n",
       "    <tr>\n",
       "      <th>696115</th>\n",
       "      <td>88820_5</td>\n",
       "      <td>88820</td>\n",
       "      <td>5</td>\n",
       "      <td>CI23478</td>\n",
       "      <td>0</td>\n",
       "    </tr>\n",
       "    <tr>\n",
       "      <th>233991</th>\n",
       "      <td>32876_5</td>\n",
       "      <td>32876</td>\n",
       "      <td>5</td>\n",
       "      <td>CI23478</td>\n",
       "      <td>0</td>\n",
       "    </tr>\n",
       "    <tr>\n",
       "      <th>766721</th>\n",
       "      <td>97359_8</td>\n",
       "      <td>97359</td>\n",
       "      <td>8</td>\n",
       "      <td>CI23478</td>\n",
       "      <td>0</td>\n",
       "    </tr>\n",
       "    <tr>\n",
       "      <th>764979</th>\n",
       "      <td>97150_8</td>\n",
       "      <td>97150</td>\n",
       "      <td>8</td>\n",
       "      <td>CI23478</td>\n",
       "      <td>0</td>\n",
       "    </tr>\n",
       "    <tr>\n",
       "      <th>627507</th>\n",
       "      <td>80527_11</td>\n",
       "      <td>80527</td>\n",
       "      <td>11</td>\n",
       "      <td>CI23479</td>\n",
       "      <td>1</td>\n",
       "    </tr>\n",
       "    <tr>\n",
       "      <th>...</th>\n",
       "      <td>...</td>\n",
       "      <td>...</td>\n",
       "      <td>...</td>\n",
       "      <td>...</td>\n",
       "      <td>...</td>\n",
       "    </tr>\n",
       "    <tr>\n",
       "      <th>558993</th>\n",
       "      <td>72288_7</td>\n",
       "      <td>72288</td>\n",
       "      <td>7</td>\n",
       "      <td>CI29082</td>\n",
       "      <td>5604</td>\n",
       "    </tr>\n",
       "    <tr>\n",
       "      <th>517989</th>\n",
       "      <td>67346_5</td>\n",
       "      <td>67346</td>\n",
       "      <td>5</td>\n",
       "      <td>CI29082</td>\n",
       "      <td>5604</td>\n",
       "    </tr>\n",
       "    <tr>\n",
       "      <th>793952</th>\n",
       "      <td>100602_4</td>\n",
       "      <td>100602</td>\n",
       "      <td>4</td>\n",
       "      <td>CI29083</td>\n",
       "      <td>5605</td>\n",
       "    </tr>\n",
       "    <tr>\n",
       "      <th>393574</th>\n",
       "      <td>52222_13</td>\n",
       "      <td>52222</td>\n",
       "      <td>13</td>\n",
       "      <td>CI29083</td>\n",
       "      <td>5605</td>\n",
       "    </tr>\n",
       "    <tr>\n",
       "      <th>541487</th>\n",
       "      <td>70221_12</td>\n",
       "      <td>70221</td>\n",
       "      <td>12</td>\n",
       "      <td>CI29083</td>\n",
       "      <td>5605</td>\n",
       "    </tr>\n",
       "  </tbody>\n",
       "</table>\n",
       "<p>903916 rows × 5 columns</p>\n",
       "</div>"
      ],
      "text/plain": [
       "       user_sequence  user_id  challenge_sequence challenge  challenge_encoded\n",
       "696115       88820_5    88820                   5   CI23478                  0\n",
       "233991       32876_5    32876                   5   CI23478                  0\n",
       "766721       97359_8    97359                   8   CI23478                  0\n",
       "764979       97150_8    97150                   8   CI23478                  0\n",
       "627507      80527_11    80527                  11   CI23479                  1\n",
       "...              ...      ...                 ...       ...                ...\n",
       "558993       72288_7    72288                   7   CI29082               5604\n",
       "517989       67346_5    67346                   5   CI29082               5604\n",
       "793952      100602_4   100602                   4   CI29083               5605\n",
       "393574      52222_13    52222                  13   CI29083               5605\n",
       "541487      70221_12    70221                  12   CI29083               5605\n",
       "\n",
       "[903916 rows x 5 columns]"
      ]
     },
     "execution_count": 226,
     "metadata": {},
     "output_type": "execute_result"
    }
   ],
   "source": [
    "# Encode challenges\n",
    "encoder = LabelEncoder()\n",
    "encoder.fit(challenges['challenge_ID'])\n",
    "\n",
    "train['challenge_encoded'] = encoder.transform(train['challenge'])\n",
    "train.sort_values('challenge_encoded')"
   ]
  },
  {
   "cell_type": "code",
   "execution_count": 227,
   "id": "87e02a61",
   "metadata": {},
   "outputs": [],
   "source": [
    "# challenges 1-10 \n",
    "temp = train[train.challenge_sequence <= 10]\n",
    "# group challenges(1-10) in one column \n",
    "df = temp.groupby('user_id')[\"challenge_encoded\"].agg(lambda x:list(x.values)).reset_index()"
   ]
  },
  {
   "cell_type": "code",
   "execution_count": 228,
   "id": "1b810e47",
   "metadata": {},
   "outputs": [],
   "source": [
    "# challenges 11-13\n",
    "next_challenge = train[train.challenge_sequence > 10][['user_id','challenge_encoded']]\n",
    "next_challenge.rename(columns={'challenge_encoded':'next_challenge'},inplace=True)\n",
    "\n",
    "# merge 2 df\n",
    "df = df.merge(next_challenge)"
   ]
  },
  {
   "cell_type": "code",
   "execution_count": 242,
   "id": "745ca8dd",
   "metadata": {},
   "outputs": [
    {
     "data": {
      "text/html": [
       "<div>\n",
       "<style scoped>\n",
       "    .dataframe tbody tr th:only-of-type {\n",
       "        vertical-align: middle;\n",
       "    }\n",
       "\n",
       "    .dataframe tbody tr th {\n",
       "        vertical-align: top;\n",
       "    }\n",
       "\n",
       "    .dataframe thead th {\n",
       "        text-align: right;\n",
       "    }\n",
       "</style>\n",
       "<table border=\"1\" class=\"dataframe\">\n",
       "  <thead>\n",
       "    <tr style=\"text-align: right;\">\n",
       "      <th></th>\n",
       "      <th>user_id</th>\n",
       "      <th>challenge_encoded</th>\n",
       "      <th>next_challenge</th>\n",
       "    </tr>\n",
       "  </thead>\n",
       "  <tbody>\n",
       "    <tr>\n",
       "      <th>0</th>\n",
       "      <td>4576</td>\n",
       "      <td>[236, 377, 1439, 185, 455, 1657, 497, 1648, 14...</td>\n",
       "      <td>1480</td>\n",
       "    </tr>\n",
       "    <tr>\n",
       "      <th>1</th>\n",
       "      <td>4576</td>\n",
       "      <td>[236, 377, 1439, 185, 455, 1657, 497, 1648, 14...</td>\n",
       "      <td>189</td>\n",
       "    </tr>\n",
       "    <tr>\n",
       "      <th>2</th>\n",
       "      <td>4576</td>\n",
       "      <td>[236, 377, 1439, 185, 455, 1657, 497, 1648, 14...</td>\n",
       "      <td>213</td>\n",
       "    </tr>\n",
       "    <tr>\n",
       "      <th>3</th>\n",
       "      <td>4580</td>\n",
       "      <td>[185, 377, 455, 497, 1052, 236, 170, 303, 189,...</td>\n",
       "      <td>1437</td>\n",
       "    </tr>\n",
       "    <tr>\n",
       "      <th>4</th>\n",
       "      <td>4580</td>\n",
       "      <td>[185, 377, 455, 497, 1052, 236, 170, 303, 189,...</td>\n",
       "      <td>2249</td>\n",
       "    </tr>\n",
       "  </tbody>\n",
       "</table>\n",
       "</div>"
      ],
      "text/plain": [
       "   user_id                                  challenge_encoded  next_challenge\n",
       "0     4576  [236, 377, 1439, 185, 455, 1657, 497, 1648, 14...            1480\n",
       "1     4576  [236, 377, 1439, 185, 455, 1657, 497, 1648, 14...             189\n",
       "2     4576  [236, 377, 1439, 185, 455, 1657, 497, 1648, 14...             213\n",
       "3     4580  [185, 377, 455, 497, 1052, 236, 170, 303, 189,...            1437\n",
       "4     4580  [185, 377, 455, 497, 1052, 236, 170, 303, 189,...            2249"
      ]
     },
     "execution_count": 242,
     "metadata": {},
     "output_type": "execute_result"
    }
   ],
   "source": [
    "df.head()"
   ]
  },
  {
   "cell_type": "markdown",
   "id": "a3ea3e53",
   "metadata": {},
   "source": [
    "### Create x_train, y_train, x_validation, y_validation"
   ]
  },
  {
   "cell_type": "code",
   "execution_count": 229,
   "id": "e26f9555",
   "metadata": {},
   "outputs": [],
   "source": [
    "# Split data to train and valid sets\n",
    "df_train, df_validation = train_test_split(df.sample(frac=1,random_state=123), test_size = 0.04, random_state=123)"
   ]
  },
  {
   "cell_type": "code",
   "execution_count": 230,
   "id": "4f4df66e",
   "metadata": {},
   "outputs": [
    {
     "name": "stdout",
     "output_type": "stream",
     "text": [
      "shape df_train:  (200252, 3)\n",
      "shape df_validation:  (8344, 3)\n"
     ]
    }
   ],
   "source": [
    "print('shape df_train: ', df_train.shape)\n",
    "print('shape df_validation: ', df_validation.shape)"
   ]
  },
  {
   "cell_type": "code",
   "execution_count": 231,
   "id": "d450ec1e",
   "metadata": {},
   "outputs": [],
   "source": [
    "x_train_np_list = df_train['challenge_encoded'].values # have bad format np array-list-np array\n",
    "x_train = np.array(list(x_train_np_list))\n",
    "\n",
    "x_valid_np_list = df_validation['challenge_encoded'].values # have bad format np array-list-np array\n",
    "x_valid = np.array(list(x_valid_np_list))\n",
    "\n",
    "y_train = df_train['next_challenge'].values\n",
    "y_valid = df_validation['next_challenge'].values"
   ]
  },
  {
   "cell_type": "code",
   "execution_count": 232,
   "id": "eeb89984",
   "metadata": {},
   "outputs": [],
   "source": [
    "TOTAL_WORDS = challenges['challenge_ID'].nunique()\n",
    "SEQUENCE_LEN = 10  # 10 challenges \n",
    "N_CATEGORIES = challenges.shape[0]  # number of all possible challenges (5606)"
   ]
  },
  {
   "cell_type": "code",
   "execution_count": 14,
   "id": "1df20c70",
   "metadata": {},
   "outputs": [
    {
     "data": {
      "text/plain": [
       "5606"
      ]
     },
     "execution_count": 14,
     "metadata": {},
     "output_type": "execute_result"
    }
   ],
   "source": [
    "challenges['challenge_ID'].nunique()"
   ]
  },
  {
   "cell_type": "markdown",
   "id": "a9867144",
   "metadata": {},
   "source": [
    "### Define & Train model "
   ]
  },
  {
   "cell_type": "code",
   "execution_count": 14,
   "id": "48f22610",
   "metadata": {},
   "outputs": [],
   "source": [
    "# Model callbacks\n",
    "\n",
    "# reduce learning rate when a metric has stopped improving\n",
    "reduce_lr = ReduceLROnPlateau(monitor='val_accuracy', factor=0.05, patience=5,  verbose = 0)\n",
    "\n",
    "# defining callback list\n",
    "callback_list = [reduce_lr]"
   ]
  },
  {
   "cell_type": "code",
   "execution_count": 15,
   "id": "47d0e736",
   "metadata": {},
   "outputs": [
    {
     "name": "stdout",
     "output_type": "stream",
     "text": [
      "WARNING:tensorflow:Layer lstm_1 will not use cuDNN kernels since it doesn't meet the criteria. It will use a generic GPU kernel as fallback when running on GPU.\n",
      "WARNING:tensorflow:Layer lstm_1 will not use cuDNN kernels since it doesn't meet the criteria. It will use a generic GPU kernel as fallback when running on GPU.\n",
      "WARNING:tensorflow:Layer lstm_1 will not use cuDNN kernels since it doesn't meet the criteria. It will use a generic GPU kernel as fallback when running on GPU.\n"
     ]
    }
   ],
   "source": [
    "inp = Input(shape=(SEQUENCE_LEN))\n",
    "x = Embedding(TOTAL_WORDS,512)(inp)\n",
    "x = BatchNormalization()(x)\n",
    "x = Bidirectional(LSTM(512, dropout=0.1, recurrent_dropout=0.1))(x) #return_sequences=True\n",
    "x = Dropout(0.4)(x)\n",
    "x = Dense(N_CATEGORIES, activation=\"softmax\")(x)\n",
    "model = Model(inputs=inp, outputs=x)\n",
    "\n",
    "model.compile(loss='sparse_categorical_crossentropy', optimizer='adam', metrics=['accuracy'])\n",
    "\n",
    "#model.summary()"
   ]
  },
  {
   "cell_type": "code",
   "execution_count": 88,
   "id": "72b6a52a",
   "metadata": {},
   "outputs": [],
   "source": [
    "optimizer = adam_v2.Adam(learning_rate=0.00001)\n",
    "model.compile(loss='sparse_categorical_crossentropy', optimizer=optimizer, metrics=['accuracy'])"
   ]
  },
  {
   "cell_type": "code",
   "execution_count": 89,
   "id": "a92889d5",
   "metadata": {},
   "outputs": [
    {
     "name": "stdout",
     "output_type": "stream",
     "text": [
      "Epoch 1/5\n",
      "196/196 [==============================] - 33s 136ms/step - loss: 1.7662 - accuracy: 0.3314 - val_loss: 5.8690 - val_accuracy: 0.0022\n",
      "Epoch 2/5\n",
      "196/196 [==============================] - 25s 127ms/step - loss: 1.7706 - accuracy: 0.3291 - val_loss: 5.8711 - val_accuracy: 0.0020\n",
      "Epoch 3/5\n",
      "196/196 [==============================] - 25s 128ms/step - loss: 1.7625 - accuracy: 0.3309 - val_loss: 5.8730 - val_accuracy: 0.0023\n",
      "Epoch 4/5\n",
      "196/196 [==============================] - 25s 128ms/step - loss: 1.7624 - accuracy: 0.3328 - val_loss: 5.8748 - val_accuracy: 0.0020\n",
      "Epoch 5/5\n",
      "196/196 [==============================] - 25s 128ms/step - loss: 1.7639 - accuracy: 0.3306 - val_loss: 5.8770 - val_accuracy: 0.0019\n"
     ]
    },
    {
     "data": {
      "text/plain": [
       "<keras.callbacks.History at 0x7f5e01bb1430>"
      ]
     },
     "execution_count": 89,
     "metadata": {},
     "output_type": "execute_result"
    }
   ],
   "source": [
    "# Fit the model\n",
    "model.fit(x_train,\n",
    "          y_train,\n",
    "          epochs=5,\n",
    "          batch_size=1024,\n",
    "          validation_data=(x_valid, y_valid)\n",
    "          #callbacks = callback_list\n",
    "         )"
   ]
  },
  {
   "cell_type": "code",
   "execution_count": 94,
   "id": "d5b3b12a",
   "metadata": {},
   "outputs": [],
   "source": [
    "# model.save_weights('weights1.hdf5')\n",
    "# model.save(\"models/model.h5\")"
   ]
  },
  {
   "cell_type": "markdown",
   "id": "770cbf8a",
   "metadata": {},
   "source": [
    "### Define & Train model1"
   ]
  },
  {
   "cell_type": "code",
   "execution_count": 57,
   "id": "fcea06dd",
   "metadata": {},
   "outputs": [
    {
     "name": "stdout",
     "output_type": "stream",
     "text": [
      "WARNING:tensorflow:Layer lstm_3 will not use cuDNN kernels since it doesn't meet the criteria. It will use a generic GPU kernel as fallback when running on GPU.\n",
      "WARNING:tensorflow:Layer lstm_3 will not use cuDNN kernels since it doesn't meet the criteria. It will use a generic GPU kernel as fallback when running on GPU.\n",
      "WARNING:tensorflow:Layer lstm_3 will not use cuDNN kernels since it doesn't meet the criteria. It will use a generic GPU kernel as fallback when running on GPU.\n"
     ]
    }
   ],
   "source": [
    "inp = Input(shape=(SEQUENCE_LEN))\n",
    "x = Embedding(TOTAL_WORDS,512)(inp)\n",
    "x = BatchNormalization()(x)\n",
    "x = Bidirectional(LSTM(256, dropout=0.1, recurrent_dropout=0.1))(x)\n",
    "x = Dropout(0.1)(x)\n",
    "x = Dense(N_CATEGORIES, activation=\"softmax\")(x)\n",
    "model1 = Model(inputs=inp, outputs=x)\n",
    "\n",
    "# model1.summary()"
   ]
  },
  {
   "cell_type": "code",
   "execution_count": 95,
   "id": "c7d9b806",
   "metadata": {},
   "outputs": [],
   "source": [
    "optimizer = adam_v2.Adam(learning_rate=0.00001)\n",
    "model1.compile(loss='sparse_categorical_crossentropy', optimizer=optimizer, metrics=['accuracy'])"
   ]
  },
  {
   "cell_type": "code",
   "execution_count": 97,
   "id": "cce7fe96",
   "metadata": {},
   "outputs": [
    {
     "name": "stdout",
     "output_type": "stream",
     "text": [
      "Epoch 1/5\n",
      "196/196 [==============================] - 21s 107ms/step - loss: 1.8452 - accuracy: 0.3200 - val_loss: 5.2774 - val_accuracy: 0.0122\n",
      "Epoch 2/5\n",
      "196/196 [==============================] - 21s 107ms/step - loss: 1.8438 - accuracy: 0.3211 - val_loss: 5.2789 - val_accuracy: 0.0121\n",
      "Epoch 3/5\n",
      "196/196 [==============================] - 21s 107ms/step - loss: 1.8423 - accuracy: 0.3215 - val_loss: 5.2804 - val_accuracy: 0.0119\n",
      "Epoch 4/5\n",
      "196/196 [==============================] - 21s 106ms/step - loss: 1.8428 - accuracy: 0.3196 - val_loss: 5.2819 - val_accuracy: 0.0117\n",
      "Epoch 5/5\n",
      "196/196 [==============================] - 21s 106ms/step - loss: 1.8401 - accuracy: 0.3221 - val_loss: 5.2838 - val_accuracy: 0.0117\n"
     ]
    },
    {
     "data": {
      "text/plain": [
       "<keras.callbacks.History at 0x7f5d3ab83670>"
      ]
     },
     "execution_count": 97,
     "metadata": {},
     "output_type": "execute_result"
    }
   ],
   "source": [
    "# Fit the model\n",
    "model1.fit(x_train,\n",
    "          y_train,\n",
    "          epochs=5,\n",
    "          batch_size=1024,\n",
    "          validation_data=(x_valid, y_valid),\n",
    "          callbacks = callback_list\n",
    "         )"
   ]
  },
  {
   "cell_type": "code",
   "execution_count": 76,
   "id": "4761e34c",
   "metadata": {},
   "outputs": [],
   "source": [
    "# model1.save_weights('weights2.hdf5')\n",
    "# model1.save(\"models/model1.h5\")"
   ]
  },
  {
   "cell_type": "markdown",
   "id": "66f7b69e",
   "metadata": {},
   "source": [
    "### Define & Train model2"
   ]
  },
  {
   "cell_type": "code",
   "execution_count": 77,
   "id": "7a880a1f",
   "metadata": {},
   "outputs": [
    {
     "name": "stdout",
     "output_type": "stream",
     "text": [
      "WARNING:tensorflow:Layer lstm_4 will not use cuDNN kernels since it doesn't meet the criteria. It will use a generic GPU kernel as fallback when running on GPU.\n",
      "WARNING:tensorflow:Layer lstm_4 will not use cuDNN kernels since it doesn't meet the criteria. It will use a generic GPU kernel as fallback when running on GPU.\n",
      "WARNING:tensorflow:Layer lstm_4 will not use cuDNN kernels since it doesn't meet the criteria. It will use a generic GPU kernel as fallback when running on GPU.\n"
     ]
    }
   ],
   "source": [
    "inp = Input(shape=(SEQUENCE_LEN))\n",
    "x = Embedding(TOTAL_WORDS,512)(inp)\n",
    "x = BatchNormalization()(x)\n",
    "x = Bidirectional(LSTM(512, dropout=0.1, recurrent_dropout=0.1))(x)\n",
    "x = Dropout(0.4)(x)\n",
    "x = Dense(N_CATEGORIES, activation=\"softmax\")(x)\n",
    "model2 = Model(inputs=inp, outputs=x)\n",
    "\n",
    "# model2.summary()"
   ]
  },
  {
   "cell_type": "code",
   "execution_count": 102,
   "id": "58286bc2",
   "metadata": {},
   "outputs": [],
   "source": [
    "optimizer = adam_v2.Adam(learning_rate=0.0001)\n",
    "model2.compile(loss='sparse_categorical_crossentropy', optimizer=optimizer, metrics=['accuracy'])"
   ]
  },
  {
   "cell_type": "code",
   "execution_count": 103,
   "id": "b7f7dc3d",
   "metadata": {},
   "outputs": [
    {
     "name": "stdout",
     "output_type": "stream",
     "text": [
      "Epoch 1/5\n",
      "196/196 [==============================] - 34s 136ms/step - loss: 1.8733 - accuracy: 0.3184 - val_loss: 5.5577 - val_accuracy: 0.0042\n",
      "Epoch 2/5\n",
      "196/196 [==============================] - 25s 127ms/step - loss: 1.8740 - accuracy: 0.3185 - val_loss: 5.5732 - val_accuracy: 0.0037\n",
      "Epoch 3/5\n",
      "196/196 [==============================] - 25s 127ms/step - loss: 1.8601 - accuracy: 0.3203 - val_loss: 5.5857 - val_accuracy: 0.0035\n",
      "Epoch 4/5\n",
      "196/196 [==============================] - 25s 126ms/step - loss: 1.8610 - accuracy: 0.3183 - val_loss: 5.6024 - val_accuracy: 0.0036\n",
      "Epoch 5/5\n",
      "196/196 [==============================] - 25s 127ms/step - loss: 1.8489 - accuracy: 0.3216 - val_loss: 5.6154 - val_accuracy: 0.0034\n"
     ]
    },
    {
     "data": {
      "text/plain": [
       "<keras.callbacks.History at 0x7f5d3cbe7310>"
      ]
     },
     "execution_count": 103,
     "metadata": {},
     "output_type": "execute_result"
    }
   ],
   "source": [
    "# Fit the model\n",
    "model2.fit(x_train,\n",
    "          y_train,\n",
    "          epochs=5,\n",
    "          batch_size=1024,\n",
    "          validation_data=(x_valid, y_valid),\n",
    "          callbacks = callback_list\n",
    "         )"
   ]
  },
  {
   "cell_type": "code",
   "execution_count": 108,
   "id": "1ead0a14",
   "metadata": {},
   "outputs": [],
   "source": [
    "# model2.save(\"models/model2.h5\")\n",
    "# model2.save_weights('weights3.hdf5')"
   ]
  },
  {
   "cell_type": "markdown",
   "id": "46640d10",
   "metadata": {},
   "source": [
    "### Define & Train model3"
   ]
  },
  {
   "cell_type": "code",
   "execution_count": 109,
   "id": "06de374d",
   "metadata": {},
   "outputs": [
    {
     "name": "stdout",
     "output_type": "stream",
     "text": [
      "WARNING:tensorflow:Layer lstm_5 will not use cuDNN kernels since it doesn't meet the criteria. It will use a generic GPU kernel as fallback when running on GPU.\n",
      "WARNING:tensorflow:Layer lstm_5 will not use cuDNN kernels since it doesn't meet the criteria. It will use a generic GPU kernel as fallback when running on GPU.\n",
      "WARNING:tensorflow:Layer lstm_5 will not use cuDNN kernels since it doesn't meet the criteria. It will use a generic GPU kernel as fallback when running on GPU.\n"
     ]
    }
   ],
   "source": [
    "inp = Input(shape=(SEQUENCE_LEN))\n",
    "x = Embedding(TOTAL_WORDS,512)(inp)\n",
    "x = BatchNormalization()(x)\n",
    "x = Bidirectional(LSTM(512, dropout=0.1, recurrent_dropout=0.1, return_sequences=True))(x)\n",
    "x = BatchNormalization()(x)\n",
    "x = Bidirectional(LSTM(512))(x)\n",
    "x = Dense(N_CATEGORIES, activation=\"softmax\")(x)\n",
    "model3 = Model(inputs=inp, outputs=x)\n",
    "\n",
    "# model3.summary()"
   ]
  },
  {
   "cell_type": "code",
   "execution_count": 124,
   "id": "1c4abfda",
   "metadata": {},
   "outputs": [],
   "source": [
    "optimizer = adam_v2.Adam(learning_rate=0.000001)\n",
    "model3.compile(loss='sparse_categorical_crossentropy', optimizer=optimizer, metrics=['accuracy'])"
   ]
  },
  {
   "cell_type": "code",
   "execution_count": 126,
   "id": "269f75e1",
   "metadata": {},
   "outputs": [
    {
     "name": "stdout",
     "output_type": "stream",
     "text": [
      "Epoch 1/5\n",
      "196/196 [==============================] - 36s 182ms/step - loss: 1.2316 - accuracy: 0.3466 - val_loss: 6.2655 - val_accuracy: 1.1985e-04\n",
      "Epoch 2/5\n",
      "196/196 [==============================] - 35s 181ms/step - loss: 1.2324 - accuracy: 0.3454 - val_loss: 6.2659 - val_accuracy: 1.1985e-04\n",
      "Epoch 3/5\n",
      "196/196 [==============================] - 36s 181ms/step - loss: 1.2318 - accuracy: 0.3456 - val_loss: 6.2662 - val_accuracy: 1.1985e-04\n",
      "Epoch 4/5\n",
      "196/196 [==============================] - 35s 181ms/step - loss: 1.2312 - accuracy: 0.3455 - val_loss: 6.2669 - val_accuracy: 1.1985e-04\n",
      "Epoch 5/5\n",
      "196/196 [==============================] - 36s 182ms/step - loss: 1.2320 - accuracy: 0.3448 - val_loss: 6.2674 - val_accuracy: 1.1985e-04\n"
     ]
    },
    {
     "data": {
      "text/plain": [
       "<keras.callbacks.History at 0x7f5d0927ce80>"
      ]
     },
     "execution_count": 126,
     "metadata": {},
     "output_type": "execute_result"
    }
   ],
   "source": [
    "# Fit the model\n",
    "model3.fit(x_train,\n",
    "          y_train,\n",
    "          epochs=5,\n",
    "          batch_size=1024,\n",
    "          validation_data=(x_valid, y_valid),\n",
    "          callbacks = callback_list\n",
    "         )"
   ]
  },
  {
   "cell_type": "code",
   "execution_count": 132,
   "id": "249c7fd4",
   "metadata": {},
   "outputs": [],
   "source": [
    "# model3.save_weights('weights4.hdf5')\n",
    "# model3.save(\"models/model3.h5\")"
   ]
  },
  {
   "cell_type": "markdown",
   "id": "676fa287",
   "metadata": {},
   "source": [
    "### Define & Train model4"
   ]
  },
  {
   "cell_type": "code",
   "execution_count": 133,
   "id": "aa047651",
   "metadata": {},
   "outputs": [
    {
     "name": "stdout",
     "output_type": "stream",
     "text": [
      "WARNING:tensorflow:Layer lstm_7 will not use cuDNN kernels since it doesn't meet the criteria. It will use a generic GPU kernel as fallback when running on GPU.\n",
      "WARNING:tensorflow:Layer lstm_7 will not use cuDNN kernels since it doesn't meet the criteria. It will use a generic GPU kernel as fallback when running on GPU.\n",
      "WARNING:tensorflow:Layer lstm_7 will not use cuDNN kernels since it doesn't meet the criteria. It will use a generic GPU kernel as fallback when running on GPU.\n"
     ]
    }
   ],
   "source": [
    "inp = Input(shape=(SEQUENCE_LEN))\n",
    "x = Embedding(TOTAL_WORDS,512)(inp)\n",
    "x = BatchNormalization()(x)\n",
    "x = Bidirectional(LSTM(512, dropout=0.1, recurrent_dropout=0.1, return_sequences=True))(x)\n",
    "x = Dropout(0.1)(x)\n",
    "x = Bidirectional(GRU(512))(x)\n",
    "x = Dropout(0.1)(x)\n",
    "x = Dense(N_CATEGORIES, activation=\"softmax\")(x)\n",
    "model4 = Model(inputs=inp, outputs=x)\n",
    "\n",
    "# model4.summary()"
   ]
  },
  {
   "cell_type": "code",
   "execution_count": 146,
   "id": "b2a9a4cc",
   "metadata": {},
   "outputs": [],
   "source": [
    "optimizer = adam_v2.Adam(learning_rate=0.000001)\n",
    "model4.compile(loss='sparse_categorical_crossentropy', optimizer=optimizer, metrics=['accuracy'])"
   ]
  },
  {
   "cell_type": "code",
   "execution_count": 147,
   "id": "6d0ffac6",
   "metadata": {},
   "outputs": [
    {
     "name": "stdout",
     "output_type": "stream",
     "text": [
      "Epoch 1/5\n",
      "196/196 [==============================] - 45s 179ms/step - loss: 1.5655 - accuracy: 0.3404 - val_loss: 5.3901 - val_accuracy: 0.0046\n",
      "Epoch 2/5\n",
      "196/196 [==============================] - 33s 168ms/step - loss: 1.5596 - accuracy: 0.3443 - val_loss: 5.3906 - val_accuracy: 0.0046\n",
      "Epoch 3/5\n",
      "196/196 [==============================] - 33s 168ms/step - loss: 1.5659 - accuracy: 0.3409 - val_loss: 5.3911 - val_accuracy: 0.0046\n",
      "Epoch 4/5\n",
      "196/196 [==============================] - 33s 168ms/step - loss: 1.5656 - accuracy: 0.3416 - val_loss: 5.3916 - val_accuracy: 0.0046\n",
      "Epoch 5/5\n",
      "196/196 [==============================] - 33s 168ms/step - loss: 1.5662 - accuracy: 0.3408 - val_loss: 5.3922 - val_accuracy: 0.0046\n"
     ]
    },
    {
     "data": {
      "text/plain": [
       "<keras.callbacks.History at 0x7f5c946fc4c0>"
      ]
     },
     "execution_count": 147,
     "metadata": {},
     "output_type": "execute_result"
    }
   ],
   "source": [
    "# Fit the model\n",
    "model4.fit(x_train,\n",
    "          y_train,\n",
    "          epochs=5,\n",
    "          batch_size=1024,\n",
    "          validation_data=(x_valid, y_valid),\n",
    "          callbacks = callback_list\n",
    "         )"
   ]
  },
  {
   "cell_type": "code",
   "execution_count": 145,
   "id": "e9f14dfb",
   "metadata": {},
   "outputs": [],
   "source": [
    "# model4.save_weights('weights5_3.hdf5')\n",
    "# model4.save(\"models/model4.h5\")"
   ]
  },
  {
   "cell_type": "markdown",
   "id": "80109d64",
   "metadata": {},
   "source": [
    "### Define & Train model5"
   ]
  },
  {
   "cell_type": "code",
   "execution_count": 172,
   "id": "81465400",
   "metadata": {},
   "outputs": [],
   "source": [
    "inp = Input(shape=(SEQUENCE_LEN))\n",
    "x = Embedding(TOTAL_WORDS,256)(inp)\n",
    "x = BatchNormalization()(x)\n",
    "x = Bidirectional(LSTM(256))(x)\n",
    "x = Dropout(0.1)(x)\n",
    "x = Dense(N_CATEGORIES, activation=\"relu\")(x)\n",
    "x = Dense(N_CATEGORIES, activation=\"softmax\")(x)\n",
    "model5 = Model(inputs=inp, outputs=x)\n",
    "\n",
    "# model5.summary()"
   ]
  },
  {
   "cell_type": "code",
   "execution_count": 176,
   "id": "964bf3ac",
   "metadata": {},
   "outputs": [],
   "source": [
    "optimizer = adam_v2.Adam(learning_rate=0.000001)\n",
    "model5.compile(loss='sparse_categorical_crossentropy', optimizer=optimizer, metrics=['accuracy'])"
   ]
  },
  {
   "cell_type": "code",
   "execution_count": 177,
   "id": "5bf6cd00",
   "metadata": {},
   "outputs": [
    {
     "name": "stdout",
     "output_type": "stream",
     "text": [
      "Epoch 1/5\n",
      "196/196 [==============================] - 16s 62ms/step - loss: 1.5587 - accuracy: 0.3412 - val_loss: 6.1759 - val_accuracy: 0.0062\n",
      "Epoch 2/5\n",
      "196/196 [==============================] - 11s 57ms/step - loss: 1.5565 - accuracy: 0.3406 - val_loss: 6.1786 - val_accuracy: 0.0062\n",
      "Epoch 3/5\n",
      "196/196 [==============================] - 11s 57ms/step - loss: 1.5537 - accuracy: 0.3424 - val_loss: 6.1804 - val_accuracy: 0.0062\n",
      "Epoch 4/5\n",
      "196/196 [==============================] - 11s 57ms/step - loss: 1.5519 - accuracy: 0.3440 - val_loss: 6.1829 - val_accuracy: 0.0064\n",
      "Epoch 5/5\n",
      "196/196 [==============================] - 11s 58ms/step - loss: 1.5553 - accuracy: 0.3417 - val_loss: 6.1848 - val_accuracy: 0.0064\n"
     ]
    },
    {
     "data": {
      "text/plain": [
       "<keras.callbacks.History at 0x7f5b48eee370>"
      ]
     },
     "execution_count": 177,
     "metadata": {},
     "output_type": "execute_result"
    }
   ],
   "source": [
    "# Fit the model\n",
    "model5.fit(x_train,\n",
    "           y_train,\n",
    "           epochs=5,\n",
    "           batch_size=1024,\n",
    "           validation_data=(x_valid, y_valid),\n",
    "           callbacks = callback_list\n",
    "          )"
   ]
  },
  {
   "cell_type": "code",
   "execution_count": 170,
   "id": "1ea82478",
   "metadata": {},
   "outputs": [],
   "source": [
    "# model5.save_weights('weights6.hdf5')\n",
    "# model5.save(\"models/model5.h5\")"
   ]
  },
  {
   "cell_type": "markdown",
   "id": "71969530",
   "metadata": {},
   "source": [
    "### Define & Train model6"
   ]
  },
  {
   "cell_type": "code",
   "execution_count": 183,
   "id": "d06df9a3",
   "metadata": {},
   "outputs": [
    {
     "name": "stdout",
     "output_type": "stream",
     "text": [
      "WARNING:tensorflow:Layer lstm_10 will not use cuDNN kernels since it doesn't meet the criteria. It will use a generic GPU kernel as fallback when running on GPU.\n",
      "WARNING:tensorflow:Layer lstm_10 will not use cuDNN kernels since it doesn't meet the criteria. It will use a generic GPU kernel as fallback when running on GPU.\n",
      "WARNING:tensorflow:Layer lstm_10 will not use cuDNN kernels since it doesn't meet the criteria. It will use a generic GPU kernel as fallback when running on GPU.\n"
     ]
    }
   ],
   "source": [
    "inp = Input(shape=(SEQUENCE_LEN))\n",
    "x = Embedding(TOTAL_WORDS,256)(inp)\n",
    "x = BatchNormalization()(x)\n",
    "x = Bidirectional(LSTM(256, dropout=0.1, recurrent_dropout=0.1))(x)\n",
    "x = BatchNormalization()(x)\n",
    "x = Dropout(0.1)(x)\n",
    "x = Dense(N_CATEGORIES*2, activation=\"relu\")(x)\n",
    "x = Dropout(0.1)(x)\n",
    "x = Dense(N_CATEGORIES, activation=\"softmax\")(x)\n",
    "model6 = Model(inputs=inp, outputs=x)\n",
    "\n",
    "# model6.summary()"
   ]
  },
  {
   "cell_type": "code",
   "execution_count": 199,
   "id": "9c424d58",
   "metadata": {},
   "outputs": [],
   "source": [
    "optimizer = adam_v2.Adam(learning_rate=0.0000005)\n",
    "model6.compile(loss='sparse_categorical_crossentropy', optimizer=optimizer, metrics=['accuracy'])"
   ]
  },
  {
   "cell_type": "code",
   "execution_count": 200,
   "id": "08ce9206",
   "metadata": {},
   "outputs": [
    {
     "name": "stdout",
     "output_type": "stream",
     "text": [
      "Epoch 1/5\n",
      "196/196 [==============================] - 38s 155ms/step - loss: 1.4787 - accuracy: 0.3425 - val_loss: 6.4831 - val_accuracy: 0.0023\n",
      "Epoch 2/5\n",
      "196/196 [==============================] - 29s 147ms/step - loss: 1.4819 - accuracy: 0.3408 - val_loss: 6.4818 - val_accuracy: 0.0023\n",
      "Epoch 3/5\n",
      "196/196 [==============================] - 29s 147ms/step - loss: 1.4743 - accuracy: 0.3448 - val_loss: 6.4846 - val_accuracy: 0.0023\n",
      "Epoch 4/5\n",
      "196/196 [==============================] - 29s 147ms/step - loss: 1.4749 - accuracy: 0.3424 - val_loss: 6.4870 - val_accuracy: 0.0023\n",
      "Epoch 5/5\n",
      "196/196 [==============================] - 29s 146ms/step - loss: 1.4790 - accuracy: 0.3431 - val_loss: 6.4865 - val_accuracy: 0.0023\n"
     ]
    },
    {
     "data": {
      "text/plain": [
       "<keras.callbacks.History at 0x7f5d389f27f0>"
      ]
     },
     "execution_count": 200,
     "metadata": {},
     "output_type": "execute_result"
    }
   ],
   "source": [
    "# Fit the model\n",
    "model6.fit(x_train,\n",
    "           y_train,\n",
    "           epochs=5,\n",
    "           batch_size=1024,\n",
    "           validation_data=(x_valid, y_valid),\n",
    "           callbacks = callback_list\n",
    "          )"
   ]
  },
  {
   "cell_type": "code",
   "execution_count": 206,
   "id": "96c29db6",
   "metadata": {},
   "outputs": [],
   "source": [
    "# model6.save_weights('weights7.hdf5')\n",
    "# model6.save(\"models/model6.h5\")"
   ]
  },
  {
   "cell_type": "markdown",
   "id": "4cc6ea75",
   "metadata": {},
   "source": [
    "### Define & Train model7"
   ]
  },
  {
   "cell_type": "code",
   "execution_count": 208,
   "id": "be9ca97c",
   "metadata": {},
   "outputs": [
    {
     "name": "stdout",
     "output_type": "stream",
     "text": [
      "WARNING:tensorflow:Layer lstm_12 will not use cuDNN kernels since it doesn't meet the criteria. It will use a generic GPU kernel as fallback when running on GPU.\n",
      "WARNING:tensorflow:Layer lstm_12 will not use cuDNN kernels since it doesn't meet the criteria. It will use a generic GPU kernel as fallback when running on GPU.\n",
      "WARNING:tensorflow:Layer lstm_12 will not use cuDNN kernels since it doesn't meet the criteria. It will use a generic GPU kernel as fallback when running on GPU.\n"
     ]
    }
   ],
   "source": [
    "inp = Input(shape=(SEQUENCE_LEN))\n",
    "x = Embedding(TOTAL_WORDS,500)(inp)\n",
    "x = BatchNormalization()(x)\n",
    "x = Bidirectional(LSTM(500, dropout=0.1, recurrent_dropout=0.1))(x)\n",
    "x = BatchNormalization()(x)\n",
    "x = Dropout(0.1)(x)\n",
    "x = Dense(N_CATEGORIES*2, activation=\"relu\")(x)\n",
    "x = Dropout(0.2)(x)\n",
    "x = Dense(N_CATEGORIES, activation=\"softmax\")(x)\n",
    "model7 = Model(inputs=inp, outputs=x)\n",
    "\n",
    "# model7.summary()"
   ]
  },
  {
   "cell_type": "code",
   "execution_count": 223,
   "id": "67dc0ef0",
   "metadata": {},
   "outputs": [],
   "source": [
    "optimizer = adam_v2.Adam(learning_rate=0.0000001)\n",
    "model7.compile(loss='sparse_categorical_crossentropy', optimizer=optimizer, metrics=['accuracy'])"
   ]
  },
  {
   "cell_type": "code",
   "execution_count": null,
   "id": "c3a49073",
   "metadata": {},
   "outputs": [
    {
     "name": "stdout",
     "output_type": "stream",
     "text": [
      "Epoch 1/10\n",
      "196/196 [==============================] - 45s 192ms/step - loss: 1.4112 - accuracy: 0.3458 - val_loss: 6.7642 - val_accuracy: 0.0014\n",
      "Epoch 2/10\n",
      "196/196 [==============================] - 36s 182ms/step - loss: 1.4112 - accuracy: 0.3464 - val_loss: 6.7622 - val_accuracy: 0.0014\n",
      "Epoch 3/10\n",
      "196/196 [==============================] - 36s 182ms/step - loss: 1.4099 - accuracy: 0.3473 - val_loss: 6.7640 - val_accuracy: 0.0014\n",
      "Epoch 4/10\n",
      "196/196 [==============================] - 36s 182ms/step - loss: 1.4093 - accuracy: 0.3456 - val_loss: 6.7612 - val_accuracy: 0.0014\n",
      "Epoch 5/10\n",
      "196/196 [==============================] - 36s 182ms/step - loss: 1.4103 - accuracy: 0.3463 - val_loss: 6.7634 - val_accuracy: 0.0014\n",
      "Epoch 6/10\n",
      "196/196 [==============================] - 36s 182ms/step - loss: 1.4081 - accuracy: 0.3480 - val_loss: 6.7641 - val_accuracy: 0.0014\n",
      "Epoch 7/10\n",
      "196/196 [==============================] - 36s 182ms/step - loss: 1.4121 - accuracy: 0.3453 - val_loss: 6.7630 - val_accuracy: 0.0014\n",
      "Epoch 8/10\n",
      "196/196 [==============================] - 36s 181ms/step - loss: 1.4144 - accuracy: 0.3439 - val_loss: 6.7638 - val_accuracy: 0.0014\n",
      "Epoch 9/10\n",
      "163/196 [=======================>......] - ETA: 5s - loss: 1.4138 - accuracy: 0.3441"
     ]
    }
   ],
   "source": [
    "# Fit the model\n",
    "model7.fit(x_train,\n",
    "           y_train,\n",
    "           epochs=10,\n",
    "           batch_size=1024,\n",
    "           validation_data=(x_valid, y_valid),\n",
    "           callbacks = callback_list\n",
    "          )"
   ]
  },
  {
   "cell_type": "code",
   "execution_count": 229,
   "id": "770bfb2f",
   "metadata": {},
   "outputs": [],
   "source": [
    "# model7.save_weights('weights8.hdf5')\n",
    "# model7.save(\"models/model7.h5\")"
   ]
  },
  {
   "cell_type": "markdown",
   "id": "f8a80bc4",
   "metadata": {},
   "source": [
    "### Define & Train model8"
   ]
  },
  {
   "cell_type": "code",
   "execution_count": 237,
   "id": "8d25bb6a",
   "metadata": {},
   "outputs": [],
   "source": [
    "inp = Input(shape=(SEQUENCE_LEN))\n",
    "x = Embedding(TOTAL_WORDS,512)(inp)\n",
    "x = BatchNormalization()(x)\n",
    "x = Bidirectional(GRU(512))(x)\n",
    "x = Dropout(0.1)(x)\n",
    "x = Dense(N_CATEGORIES, activation=\"softmax\")(x)\n",
    "model8 = Model(inputs=inp, outputs=x)\n",
    "\n",
    "# model8.summary()"
   ]
  },
  {
   "cell_type": "code",
   "execution_count": 246,
   "id": "71bf82f5",
   "metadata": {},
   "outputs": [],
   "source": [
    "optimizer = adam_v2.Adam(learning_rate=0.000005)\n",
    "model8.compile(loss='sparse_categorical_crossentropy', optimizer=optimizer, metrics=['accuracy'])"
   ]
  },
  {
   "cell_type": "code",
   "execution_count": 247,
   "id": "314ae6bf",
   "metadata": {},
   "outputs": [
    {
     "name": "stdout",
     "output_type": "stream",
     "text": [
      "Epoch 1/5\n",
      "196/196 [==============================] - 16s 65ms/step - loss: 1.4013 - accuracy: 0.3415 - val_loss: 5.5667 - val_accuracy: 0.0023\n",
      "Epoch 2/5\n",
      "196/196 [==============================] - 12s 60ms/step - loss: 1.4000 - accuracy: 0.3435 - val_loss: 5.5684 - val_accuracy: 0.0023\n",
      "Epoch 3/5\n",
      "196/196 [==============================] - 12s 60ms/step - loss: 1.3968 - accuracy: 0.3442 - val_loss: 5.5699 - val_accuracy: 0.0022\n",
      "Epoch 4/5\n",
      "196/196 [==============================] - 12s 60ms/step - loss: 1.3971 - accuracy: 0.3447 - val_loss: 5.5715 - val_accuracy: 0.0023\n",
      "Epoch 5/5\n",
      "196/196 [==============================] - 12s 61ms/step - loss: 1.3987 - accuracy: 0.3419 - val_loss: 5.5731 - val_accuracy: 0.0023\n"
     ]
    },
    {
     "data": {
      "text/plain": [
       "<keras.callbacks.History at 0x7f5967b37970>"
      ]
     },
     "execution_count": 247,
     "metadata": {},
     "output_type": "execute_result"
    }
   ],
   "source": [
    "# Fit the model\n",
    "model8.fit(x_train,\n",
    "           y_train,\n",
    "           epochs=5,\n",
    "           batch_size=1024,\n",
    "           validation_data=(x_valid, y_valid)\n",
    "          )"
   ]
  },
  {
   "cell_type": "code",
   "execution_count": 254,
   "id": "496e3ebb",
   "metadata": {},
   "outputs": [],
   "source": [
    "# model8.save_weights('weights9.hdf5')\n",
    "# model8.save(\"models/model8.h5\")"
   ]
  },
  {
   "cell_type": "markdown",
   "id": "5dd01781",
   "metadata": {},
   "source": [
    "### Define & Train model9"
   ]
  },
  {
   "cell_type": "code",
   "execution_count": 255,
   "id": "cef97f16",
   "metadata": {},
   "outputs": [],
   "source": [
    "inp = Input(shape=(SEQUENCE_LEN))\n",
    "x = Embedding(TOTAL_WORDS,512)(inp)\n",
    "x = BatchNormalization()(x)\n",
    "x = Bidirectional(GRU(512))(x)\n",
    "x = Dropout(0.1)(x)\n",
    "x = Dense(N_CATEGORIES*2, activation=\"relu\")(x)\n",
    "x = Dense(N_CATEGORIES, activation=\"softmax\")(x)\n",
    "model9 = Model(inputs=inp, outputs=x)\n",
    "\n",
    "# model9.summary()"
   ]
  },
  {
   "cell_type": "code",
   "execution_count": 269,
   "id": "a25b3d1e",
   "metadata": {},
   "outputs": [],
   "source": [
    "optimizer = adam_v2.Adam(learning_rate=0.000003)\n",
    "model9.compile(loss='sparse_categorical_crossentropy', optimizer=optimizer, metrics=['accuracy'])"
   ]
  },
  {
   "cell_type": "code",
   "execution_count": 277,
   "id": "a1cf0ec8",
   "metadata": {},
   "outputs": [
    {
     "name": "stdout",
     "output_type": "stream",
     "text": [
      "Epoch 1/5\n",
      "196/196 [==============================] - 21s 109ms/step - loss: 1.2994 - accuracy: 0.3441 - val_loss: 6.7209 - val_accuracy: 0.0019\n",
      "Epoch 2/5\n",
      "196/196 [==============================] - 22s 111ms/step - loss: 1.2980 - accuracy: 0.3439 - val_loss: 6.7386 - val_accuracy: 0.0019\n",
      "Epoch 3/5\n",
      "196/196 [==============================] - 22s 110ms/step - loss: 1.2973 - accuracy: 0.3434 - val_loss: 6.7533 - val_accuracy: 0.0019\n",
      "Epoch 4/5\n",
      "196/196 [==============================] - 22s 111ms/step - loss: 1.2959 - accuracy: 0.3433 - val_loss: 6.7665 - val_accuracy: 0.0019\n",
      "Epoch 5/5\n",
      "196/196 [==============================] - 22s 110ms/step - loss: 1.2954 - accuracy: 0.3428 - val_loss: 6.7789 - val_accuracy: 0.0019\n"
     ]
    },
    {
     "data": {
      "text/plain": [
       "<keras.callbacks.History at 0x7f5886fe9cd0>"
      ]
     },
     "execution_count": 277,
     "metadata": {},
     "output_type": "execute_result"
    }
   ],
   "source": [
    "# Fit the model\n",
    "model9.fit(x_train,\n",
    "           y_train,\n",
    "           epochs=5,\n",
    "           batch_size=1024,\n",
    "           validation_data=(x_valid, y_valid),\n",
    "           callbacks = callback_list\n",
    "          )"
   ]
  },
  {
   "cell_type": "code",
   "execution_count": 283,
   "id": "c089c766",
   "metadata": {},
   "outputs": [],
   "source": [
    "# model9.save_weights('weights10.hdf5')\n",
    "# model9.save(\"models/model9.h5\")"
   ]
  },
  {
   "cell_type": "markdown",
   "id": "d1e1b610",
   "metadata": {},
   "source": [
    "### Load models"
   ]
  },
  {
   "cell_type": "code",
   "execution_count": 220,
   "id": "2bd49d6a",
   "metadata": {},
   "outputs": [],
   "source": [
    "model = load_model('models/model.h5')\n",
    "model1 = load_model('models/model1.h5')\n",
    "model2 = load_model('models/model2.h5')\n",
    "model3 = load_model('models/model3.h5')\n",
    "model4 = load_model('models/model4.h5')\n",
    "model5 = load_model('models/model5.h5')\n",
    "model6 = load_model('models/model6.h5')\n",
    "model7 = load_model('models/model7.h5')\n",
    "model8 = load_model('models/model8.h5')\n",
    "model9 = load_model('models/model9.h5')"
   ]
  },
  {
   "cell_type": "markdown",
   "id": "21ded240",
   "metadata": {},
   "source": [
    "### Evaluating model performance on test data"
   ]
  },
  {
   "cell_type": "code",
   "execution_count": 234,
   "id": "9bcc6bfb",
   "metadata": {},
   "outputs": [],
   "source": [
    "# Encode challenges\n",
    "test['challenge_encoded'] = encoder.transform(test['challenge'])"
   ]
  },
  {
   "cell_type": "code",
   "execution_count": 235,
   "id": "856cfabf",
   "metadata": {},
   "outputs": [],
   "source": [
    "# challenges 1-10 \n",
    "temp = test[test.challenge_sequence <= 10]\n",
    "# group challenges(1-10) in one column \n",
    "df_test = temp.groupby('user_id')[\"challenge_encoded\"].agg(lambda x:list(x.values)).reset_index()"
   ]
  },
  {
   "cell_type": "code",
   "execution_count": 236,
   "id": "63a249ff",
   "metadata": {},
   "outputs": [],
   "source": [
    "x_test_np_list = df_test['challenge_encoded'].values # have bad format np array-list-np array\n",
    "x_test = np.array(list(x_test_np_list))"
   ]
  },
  {
   "cell_type": "code",
   "execution_count": 237,
   "id": "103c2c58",
   "metadata": {},
   "outputs": [],
   "source": [
    "# Get top 3 predictions from model for each user \n",
    "pred = model.predict(x_test,batch_size=2048)\n",
    "pred1 = model1.predict(x_test,batch_size=2048)\n",
    "pred2 = model2.predict(x_test,batch_size=2048)\n",
    "pred3 = model3.predict(x_test,batch_size=2048)\n",
    "pred4 = model4.predict(x_test,batch_size=2048)\n",
    "pred5 = model5.predict(x_test,batch_size=2048)\n",
    "pred6 = model6.predict(x_test,batch_size=2048)\n",
    "pred7 = model7.predict(x_test,batch_size=2048)\n",
    "pred8 = model8.predict(x_test,batch_size=2048)\n",
    "pred9 = model9.predict(x_test,batch_size=2048)"
   ]
  },
  {
   "cell_type": "code",
   "execution_count": 43,
   "id": "5a494259",
   "metadata": {},
   "outputs": [],
   "source": [
    "w = 0.292 * 2\n",
    "w1 = 0.278\n",
    "w2 = 0.287 \n",
    "w3 = 0.287 \n",
    "w4 = 0.284\n",
    "w5 = 0.280\n",
    "w6 = 0.283 \n",
    "w7 = 0.284 \n",
    "w8 = 0.281\n",
    "w9 = 0.285 \n",
    "weights_sum = round(w+w1+w2+w3+w4+w5+w6+w7+w8+w9, 3)"
   ]
  },
  {
   "cell_type": "code",
   "execution_count": 44,
   "id": "517d56e4",
   "metadata": {},
   "outputs": [],
   "source": [
    "overall_pred=(w*pred+w1*pred1+w2*pred2+w3*pred3+w4*pred4+w5*pred5+w6*pred6+w7*pred7+w8*pred8+w9*pred9)/weights_sum"
   ]
  },
  {
   "cell_type": "code",
   "execution_count": 45,
   "id": "fd8437f1",
   "metadata": {},
   "outputs": [],
   "source": [
    "final_pred = overall_pred.argsort(axis=1)[:,-3:][:,::-1]"
   ]
  },
  {
   "cell_type": "code",
   "execution_count": 46,
   "id": "9322ba25",
   "metadata": {},
   "outputs": [],
   "source": [
    "# Write Predictions\n",
    "df_list = []\n",
    "for i in range(3):\n",
    "\ttest_11 = df_test[['user_id']]\n",
    "\ttest_11['user_sequence'] = test_11['user_id'].astype(str) + '_'+str(i+11)\n",
    "\ttest_11['challenge'] = encoder.inverse_transform(final_pred[:, i])\n",
    "\tdf_list.append(test_11[['user_sequence','challenge']])\n",
    "pd.concat(df_list).to_csv('ens_weight.csv',index=False)"
   ]
  }
 ],
 "metadata": {
  "kernelspec": {
   "display_name": "Python 3 (ipykernel)",
   "language": "python",
   "name": "python3"
  },
  "language_info": {
   "codemirror_mode": {
    "name": "ipython",
    "version": 3
   },
   "file_extension": ".py",
   "mimetype": "text/x-python",
   "name": "python",
   "nbconvert_exporter": "python",
   "pygments_lexer": "ipython3",
   "version": "3.8.8"
  }
 },
 "nbformat": 4,
 "nbformat_minor": 5
}
